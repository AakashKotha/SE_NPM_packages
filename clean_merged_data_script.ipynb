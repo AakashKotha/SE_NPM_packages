{
 "cells": [
  {
   "cell_type": "markdown",
   "id": "5c04d2ca-f476-4b63-92fc-f3d32278962d",
   "metadata": {},
   "source": [
    "#### Import Packages"
   ]
  },
  {
   "cell_type": "code",
   "execution_count": 1,
   "id": "be431cb4-39cf-4838-9ae7-029f5e280743",
   "metadata": {},
   "outputs": [],
   "source": [
    "from IPython.display import display, clear_output\n",
    "from tkinter import Tk, filedialog\n",
    "from tqdm import tqdm\n",
    "import pandas as pd\n",
    "import numpy as np\n",
    "import csv\n",
    "import re"
   ]
  },
  {
   "cell_type": "markdown",
   "id": "d2320cc9-6856-458c-902b-fb6a1a22c600",
   "metadata": {},
   "source": [
    "#### Import CSV file"
   ]
  },
  {
   "cell_type": "code",
   "execution_count": 2,
   "id": "3497867c-83e9-4237-b68c-f5d0cec6a6d2",
   "metadata": {},
   "outputs": [
    {
     "name": "stdout",
     "output_type": "stream",
     "text": [
      "CSV file loaded successfully. The shape of the data is (20310, 41)\n"
     ]
    },
    {
     "name": "stderr",
     "output_type": "stream",
     "text": [
      "C:\\Users\\balaj\\AppData\\Local\\Temp\\ipykernel_2212\\3719102924.py:11: DtypeWarning: Columns (19,32) have mixed types. Specify dtype option on import or set low_memory=False.\n",
      "  df = pd.read_csv(file_path, encoding='latin-1')\n"
     ]
    }
   ],
   "source": [
    "# Create a Tkinter root window\n",
    "root = Tk()\n",
    "root.withdraw()  # Hide the root window\n",
    "\n",
    "# Ask the user to select a CSV file\n",
    "file_path = filedialog.askopenfilename(filetypes=[(\"CSV files\", \"*.csv\")])\n",
    "\n",
    "# Check if a file was selected\n",
    "if file_path:\n",
    "    # Load the CSV file into a pandas DataFrame\n",
    "    df = pd.read_csv(file_path, encoding='latin-1')\n",
    "    \n",
    "    # Display the DataFrame\n",
    "    print(\"CSV file loaded successfully. The shape of the data is \" + str(df.shape))\n",
    "    \n",
    "else:\n",
    "    print(\"No file selected.\")"
   ]
  },
  {
   "cell_type": "markdown",
   "id": "48feb0ae-7969-4215-8067-4367f3caa50f",
   "metadata": {},
   "source": [
    "#### Duplicate the CSV for future use"
   ]
  },
  {
   "cell_type": "code",
   "execution_count": 3,
   "id": "c98e331d-f4de-4c09-a933-213e6d638319",
   "metadata": {},
   "outputs": [],
   "source": [
    "df_dupe = df"
   ]
  },
  {
   "cell_type": "code",
   "execution_count": 4,
   "id": "fdcf3dfa-db82-4cd6-9319-e2bed0dd6ea7",
   "metadata": {},
   "outputs": [],
   "source": [
    "df = df_dupe"
   ]
  },
  {
   "cell_type": "markdown",
   "id": "f9c6b241-f8c0-469c-8a4f-e1af81cbfae6",
   "metadata": {},
   "source": [
    "#### Drops Rows where important values are missing"
   ]
  },
  {
   "cell_type": "code",
   "execution_count": 5,
   "id": "039f90c1-b7c7-448c-a220-4c05031f6dfb",
   "metadata": {},
   "outputs": [],
   "source": [
    "df = df.dropna(subset=['latest_version_git_repo'])"
   ]
  },
  {
   "cell_type": "code",
   "execution_count": 6,
   "id": "03760038-20bf-4185-b9ac-2ef31417034a",
   "metadata": {},
   "outputs": [],
   "source": [
    "df = df.dropna(subset=['Latest Version'])"
   ]
  },
  {
   "cell_type": "code",
   "execution_count": 7,
   "id": "4d87637c-f2f6-4290-8a15-b3a943ed546d",
   "metadata": {},
   "outputs": [
    {
     "data": {
      "text/plain": [
       "(10628, 41)"
      ]
     },
     "execution_count": 7,
     "metadata": {},
     "output_type": "execute_result"
    }
   ],
   "source": [
    "df.shape"
   ]
  },
  {
   "cell_type": "markdown",
   "id": "6430050a-9aa8-4074-9a12-e69aa667ced1",
   "metadata": {},
   "source": [
    "#### Clean Github Links"
   ]
  },
  {
   "cell_type": "markdown",
   "id": "a184140e-1ea1-4bf4-bda1-2e34088e1244",
   "metadata": {},
   "source": [
    "Check if 'latest_version_git_repo' is a github link. If not, drop it. Also modifies @github.com: to 'https://github.com/'"
   ]
  },
  {
   "cell_type": "code",
   "execution_count": 8,
   "id": "736e1c4f-6662-45d8-94b1-f31b96e0fb26",
   "metadata": {},
   "outputs": [],
   "source": [
    "def clean_github_links(df):\n",
    "    link_change_count = 0\n",
    "    row_drop_count = 0\n",
    "    for i in tqdm(df.index):\n",
    "        try:\n",
    "            if (re.match(r'.*(github.com).*', df['latest_version_git_repo'][i])):\n",
    "                if(re.match(r'.*(@github.com:).*', df['latest_version_git_repo'][i])):\n",
    "                    df.at[i, 'latest_version_git_repo'] = re.sub(r'.*(@github.com:)', \"https://github.com/\", df['latest_version_git_repo'][i])\n",
    "                    link_change_count += 1\n",
    "            else:\n",
    "                df = df.drop(index=i)\n",
    "                row_drop_count += 1\n",
    "        except:\n",
    "            df = df.drop(index=i)\n",
    "            row_drop_count += 1\n",
    "    clear_output(wait=True)\n",
    "    print(\"Github links modified: \" + str(link_change_count))\n",
    "    print(\"Rows dropped: \", str(row_drop_count))\n",
    "    print(\"New data shape: \", str(df.shape))\n",
    "    return df"
   ]
  },
  {
   "cell_type": "code",
   "execution_count": 9,
   "id": "69b7a0d8-f968-4f01-9192-60af6ac6f7d3",
   "metadata": {},
   "outputs": [
    {
     "name": "stdout",
     "output_type": "stream",
     "text": [
      "Github links modified: 103\n",
      "Rows dropped:  250\n",
      "New data shape:  (10378, 41)\n"
     ]
    }
   ],
   "source": [
    "df = clean_github_links(df)"
   ]
  },
  {
   "cell_type": "markdown",
   "id": "daee0f07-1e47-4cdf-b9e0-e9151fd351e7",
   "metadata": {},
   "source": [
    "#### Clean Question Marks"
   ]
  },
  {
   "cell_type": "markdown",
   "id": "c6b4b1f4-c4ea-4ef6-9b5e-3dda62364bd0",
   "metadata": {},
   "source": [
    "Replacing '?' with __nan__ which is displayed as blank cell in csv"
   ]
  },
  {
   "cell_type": "code",
   "execution_count": 10,
   "id": "3401b4d6-32aa-4b5b-8ea9-09d069059959",
   "metadata": {},
   "outputs": [],
   "source": [
    "def remove_qmarks(val):\n",
    "    if(val == '?'):\n",
    "        return np.NaN\n",
    "    else:\n",
    "        return val"
   ]
  },
  {
   "cell_type": "code",
   "execution_count": 11,
   "id": "13a87923-a692-48cf-9641-8f7a85b1d1f6",
   "metadata": {},
   "outputs": [],
   "source": [
    "def clean_qmarks(column_name):\n",
    "    df[column_name] = df[column_name].apply(remove_qmarks)\n",
    "    return df[column_name]"
   ]
  },
  {
   "cell_type": "code",
   "execution_count": 12,
   "id": "f4c86851-5cdf-4060-b734-0492d10ff459",
   "metadata": {},
   "outputs": [],
   "source": [
    "for column in df.columns:\n",
    "    df[column] = clean_qmarks(column)"
   ]
  },
  {
   "cell_type": "markdown",
   "id": "09c8d12c-ed89-41d0-a53f-e6958d0cb546",
   "metadata": {},
   "source": [
    "#### Handle 'K' in Counts"
   ]
  },
  {
   "cell_type": "code",
   "execution_count": 13,
   "id": "8bacdcaf-8a7d-4c72-aeca-fa36cb56b6ba",
   "metadata": {},
   "outputs": [],
   "source": [
    "def modify_K(val):\n",
    "    if(re.match(r'([0-9.])+(K|k)', str(val))):\n",
    "        val = str(round(float(val[:-1]) * 1000))\n",
    "    return val"
   ]
  },
  {
   "cell_type": "code",
   "execution_count": 14,
   "id": "259f3873-4c54-4a70-b795-04dc99064f6e",
   "metadata": {},
   "outputs": [],
   "source": [
    "def clean_k_counts(column_name):\n",
    "    df[column_name] = df[column_name].apply(modify_K)\n",
    "    return df[column_name]"
   ]
  },
  {
   "cell_type": "code",
   "execution_count": 15,
   "id": "d12fdf84-ad70-40d8-988c-39c1c40f4211",
   "metadata": {},
   "outputs": [],
   "source": [
    "columns_to_handle = ['GitHub Stars', 'Forks', 'Versions', '# of Files']\n",
    "for column in columns_to_handle:\n",
    "    df[column] = clean_k_counts(column)"
   ]
  },
  {
   "cell_type": "markdown",
   "id": "192a599d-ff1c-43ea-b51a-70608bd6ac93",
   "metadata": {},
   "source": [
    "#### Clean timestamps"
   ]
  },
  {
   "cell_type": "code",
   "execution_count": 34,
   "id": "8ff0ab01-4890-47c4-921d-ce2b0eefbd84",
   "metadata": {},
   "outputs": [],
   "source": [
    "def change_timestamps(column_name):\n",
    "    df[column_name] = pd.to_datetime(df[column_name])\n",
    "    df[column_name] = df[column_name].dt.strftime('%Y-%m-%d')\n",
    "    return df[column_name]"
   ]
  },
  {
   "cell_type": "code",
   "execution_count": 35,
   "id": "9c089f94-d486-4081-91c7-d7e6a61e6a46",
   "metadata": {},
   "outputs": [],
   "source": [
    "columns_to_handle = ['modified', 'created']\n",
    "for column in columns_to_handle:\n",
    "    df[column] = change_timestamps(column)"
   ]
  },
  {
   "cell_type": "markdown",
   "id": "9b00276b-e378-467f-8908-ff321b489854",
   "metadata": {},
   "source": [
    "#### Clean \"years ago\" values"
   ]
  },
  {
   "cell_type": "code",
   "execution_count": 18,
   "id": "9aa6081a-9f84-4c61-86e9-3a57be0c7d4f",
   "metadata": {},
   "outputs": [],
   "source": [
    "def extract_years(value):\n",
    "    try:\n",
    "        match = re.search(r'(\\d+)\\s*(years?|months?|days?|hours?)\\s*(ago)*', value)\n",
    "        if match:\n",
    "            num_value = int(match.group(1)) \n",
    "            unit = match.group(2)\n",
    "            if unit.startswith('year'):\n",
    "                return round(num_value * 12, 2)\n",
    "            elif unit.startswith('month'):\n",
    "                return round(num_value, 2)\n",
    "            elif unit.startswith('day'):\n",
    "                return round(num_value / 30.44, 2)\n",
    "            elif unit.startswith('hour'):\n",
    "                return round(num_value / 720, 2)\n",
    "        else:\n",
    "            return np.NaN\n",
    "    except:\n",
    "        return value"
   ]
  },
  {
   "cell_type": "code",
   "execution_count": 19,
   "id": "9cbae7c9-34ab-4621-b3b7-63a3f1115bf0",
   "metadata": {},
   "outputs": [],
   "source": [
    "def handle_years(column_name):\n",
    "    df[column_name] = df[column_name].apply(extract_years)\n",
    "    return df[column_name]"
   ]
  },
  {
   "cell_type": "code",
   "execution_count": 20,
   "id": "cc35d682-6d28-43e9-95dd-74d42a9fbbee",
   "metadata": {},
   "outputs": [],
   "source": [
    "columns_to_handle = ['Latest Version', 'Last Commit', 'Age', 'Last Release']\n",
    "for column in columns_to_handle:\n",
    "    df[column] = handle_years(column)"
   ]
  },
  {
   "cell_type": "markdown",
   "id": "682d90c7-b762-4fc0-b6a6-9d2bc1104d83",
   "metadata": {},
   "source": [
    "#### Drop 'last release'. Redundant with 'Latest Version'"
   ]
  },
  {
   "cell_type": "code",
   "execution_count": 21,
   "id": "e1070f37-62a7-4048-aa10-ae4345b831d8",
   "metadata": {},
   "outputs": [
    {
     "data": {
      "text/plain": [
       "(10378, 40)"
      ]
     },
     "execution_count": 21,
     "metadata": {},
     "output_type": "execute_result"
    }
   ],
   "source": [
    "df = df.drop('Last Release', axis = 1)\n",
    "df.shape"
   ]
  },
  {
   "cell_type": "markdown",
   "id": "9377a2ad-ba4e-4615-86ec-6be2acb790e6",
   "metadata": {},
   "source": [
    "#### Drop 'Maintainers'. Redundant with 'maintainers_length'"
   ]
  },
  {
   "cell_type": "code",
   "execution_count": 22,
   "id": "f81347f3-682f-48cf-9eab-dc3ecf632f6e",
   "metadata": {},
   "outputs": [
    {
     "data": {
      "text/plain": [
       "5"
      ]
     },
     "execution_count": 22,
     "metadata": {},
     "output_type": "execute_result"
    }
   ],
   "source": [
    "count = 0\n",
    "for i in tqdm(df.index):\n",
    "    if not (df['maintainers_length'][i] == str(round(df['Maintainers'][i]))):\n",
    "        count += 1\n",
    "clear_output(wait=True)\n",
    "count"
   ]
  },
  {
   "cell_type": "code",
   "execution_count": 23,
   "id": "903e4e24-d59e-4484-be8a-6832cd391a6c",
   "metadata": {},
   "outputs": [
    {
     "data": {
      "text/plain": [
       "(10378, 39)"
      ]
     },
     "execution_count": 23,
     "metadata": {},
     "output_type": "execute_result"
    }
   ],
   "source": [
    "df = df.drop('Maintainers', axis = 1)\n",
    "df.shape"
   ]
  },
  {
   "cell_type": "markdown",
   "id": "5a087fdc-10c4-4242-b8bd-2e20c35dfbd2",
   "metadata": {},
   "source": [
    "#### Clean '-' in 'Contributors' "
   ]
  },
  {
   "cell_type": "code",
   "execution_count": 36,
   "id": "a12c61bf-a245-4511-bee6-9a8636b729e0",
   "metadata": {},
   "outputs": [],
   "source": [
    "def remove_minus(val):\n",
    "    if(val == '-'):\n",
    "        return np.NaN\n",
    "    else:\n",
    "        return val"
   ]
  },
  {
   "cell_type": "code",
   "execution_count": 37,
   "id": "5008e6d9-d7d6-478c-9c66-79c1566c5360",
   "metadata": {},
   "outputs": [],
   "source": [
    "def clean_minus(column_name):\n",
    "    df[column_name] = df[column_name].apply(remove_minus)\n",
    "    return df[column_name]"
   ]
  },
  {
   "cell_type": "code",
   "execution_count": 38,
   "id": "a979029c-e822-405c-8f06-949e703424f6",
   "metadata": {},
   "outputs": [],
   "source": [
    "columns_to_handle = ['Contributors']\n",
    "for column in columns_to_handle:\n",
    "    df[column] = clean_minus(column)"
   ]
  },
  {
   "cell_type": "markdown",
   "id": "49b5d95b-e0c4-42b3-9e4b-3fe7bf967076",
   "metadata": {},
   "source": [
    "#### Check Value Freq for a Column"
   ]
  },
  {
   "cell_type": "code",
   "execution_count": 24,
   "id": "99e7f746-bb3f-4267-9dfa-e4b3238c365c",
   "metadata": {},
   "outputs": [
    {
     "name": "stdout",
     "output_type": "stream",
     "text": [
      "Inactive       9926\n",
      "Sustainable     312\n",
      "Healthy         138\n",
      "Pending",
      "          2\n",
      "Name: Maintainence, dtype: int64\n"
     ]
    }
   ],
   "source": [
    "column_name = \"Maintainence\"\n",
    "print(df[column_name].value_counts(dropna = False))"
   ]
  },
  {
   "cell_type": "markdown",
   "id": "46c028a2-5886-43f8-9aff-3bcfca04cc12",
   "metadata": {},
   "source": [
    "#### Save Cleaned Data to CSV"
   ]
  },
  {
   "cell_type": "code",
   "execution_count": 39,
   "id": "b044b3f8-0575-4cdb-8afe-a6aff4dae4e8",
   "metadata": {},
   "outputs": [],
   "source": [
    "df.to_csv('cleaned_data.csv', index=False)"
   ]
  },
  {
   "cell_type": "code",
   "execution_count": 40,
   "id": "46a9f653-b368-45b4-9efe-f97ffa110876",
   "metadata": {},
   "outputs": [
    {
     "data": {
      "text/plain": [
       "(10378, 39)"
      ]
     },
     "execution_count": 40,
     "metadata": {},
     "output_type": "execute_result"
    }
   ],
   "source": [
    "df.shape"
   ]
  },
  {
   "cell_type": "code",
   "execution_count": null,
   "id": "69275d5d-f606-453f-a18b-011ba1d68561",
   "metadata": {},
   "outputs": [],
   "source": []
  }
 ],
 "metadata": {
  "kernelspec": {
   "display_name": "Python 3 (ipykernel)",
   "language": "python",
   "name": "python3"
  },
  "language_info": {
   "codemirror_mode": {
    "name": "ipython",
    "version": 3
   },
   "file_extension": ".py",
   "mimetype": "text/x-python",
   "name": "python",
   "nbconvert_exporter": "python",
   "pygments_lexer": "ipython3",
   "version": "3.10.2"
  }
 },
 "nbformat": 4,
 "nbformat_minor": 5
}
