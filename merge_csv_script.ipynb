{
 "cells": [
  {
   "cell_type": "code",
   "execution_count": 6,
   "metadata": {},
   "outputs": [],
   "source": [
    "import pandas as pd\n",
    "\n",
    "csv_files = ['/Users/tahers/Documents/SE_NPM_packages/git_stats_batch1.csv','/Users/tahers/Documents/SE_NPM_packages/git_stats_batch2.csv','/Users/tahers/Documents/SE_NPM_packages/git_stats_batch3.csv','/Users/tahers/Documents/SE_NPM_packages/git_stats_batch4.csv','/Users/tahers/Documents/SE_NPM_packages/git_stats_batch5.csv','/Users/tahers/Documents/SE_NPM_packages/git_stats_batch7.csv','/Users/tahers/Documents/SE_NPM_packages/git_stats_batch8.csv','/Users/tahers/Documents/SE_NPM_packages/git_stats_batch9.csv','/Users/tahers/Documents/SE_NPM_packages/git_stats_batch10.csv','/Users/tahers/Documents/SE_NPM_packages/git_stats_batch6.csv']\n",
    "\n",
    "merged_data = pd.DataFrame()\n",
    "first_file = True\n",
    "for file in csv_files:\n",
    "    try:\n",
    "        df = pd.read_csv(file, encoding='utf-8', dtype=str, na_values='')  # Specify na_values\n",
    "        \n",
    "        if first_file:\n",
    "            merged_data = df\n",
    "            first_file = False\n",
    "        else:\n",
    "            merged_data = pd.concat([merged_data, df], ignore_index=True)\n",
    "    except Exception as e:\n",
    "        print(f\"Error reading file {file}: {e}\")\n",
    "\n",
    "# Write merged data to a new CSV file\n",
    "merged_data.to_csv('git_stats_data.csv', index=False)"
   ]
  },
  {
   "cell_type": "code",
   "execution_count": 3,
   "metadata": {},
   "outputs": [],
   "source": [
    "import pandas as pd\n",
    "\n",
    "merged_data = pd.read_csv('/Users/tahers/Documents/SE_NPM_packages/npmjs_data_merged.csv')\n",
    "\n",
    "selected_data = merged_data[['package_name', 'latest_version_git_repo']]\n",
    "\n",
    "selected_data.to_csv('name_git_repo_nik.csv', index=False, escapechar='\\\\')\n"
   ]
  },
  {
   "cell_type": "code",
   "execution_count": null,
   "metadata": {},
   "outputs": [],
   "source": [
    "import pandas as pd\n",
    "\n",
    "df1 = pd.read_csv('/Users/tahers/Documents/SE_NPM_packages/npmjs_data_merged.csv')  \n",
    "df2 = pd.read_csv('/Users/tahers/Documents/SE_NPM_packages/synk_data_merged.csv') \n",
    "\n",
    "# Merge the two DataFrames based on package_name and Package columns\n",
    "merged_df = pd.merge(df1, df2, how='outer', left_on='package_name', right_on='Package')\n",
    "\n",
    "# Drop one of the two columns with similar package names\n",
    "merged_df.drop('Package', axis=1, inplace=True)  # Drop 'Package' column\n",
    "\n",
    "# Write the merged DataFrame to a new CSV file\n",
    "merged_df.to_csv('data_merged_npmjs_synk.csv', index=False)\n"
   ]
  }
 ],
 "metadata": {
  "kernelspec": {
   "display_name": "Python 3",
   "language": "python",
   "name": "python3"
  },
  "language_info": {
   "codemirror_mode": {
    "name": "ipython",
    "version": 3
   },
   "file_extension": ".py",
   "mimetype": "text/x-python",
   "name": "python",
   "nbconvert_exporter": "python",
   "pygments_lexer": "ipython3",
   "version": "3.12.0"
  },
  "orig_nbformat": 4
 },
 "nbformat": 4,
 "nbformat_minor": 2
}
