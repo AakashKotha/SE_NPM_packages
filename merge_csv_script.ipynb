{
 "cells": [
  {
   "cell_type": "code",
   "execution_count": 2,
   "metadata": {},
   "outputs": [],
   "source": [
    "import pandas as pd\n",
    "import os\n",
    "\n",
    "csv_files = ['/Users/tahers/Documents/SE_NPM_packages/synk_data_batch1.csv','/Users/tahers/Documents/SE_NPM_packages/synk_data_batch2.csv','/Users/tahers/Documents/SE_NPM_packages/synk_data_batch3.csv','/Users/tahers/Documents/SE_NPM_packages/synk_data_batch4.csv','/Users/tahers/Documents/SE_NPM_packages/synk_data_batch5.csv','/Users/tahers/Documents/SE_NPM_packages/synk_data_batch6.csv','/Users/tahers/Documents/SE_NPM_packages/synk_data_batch7.csv','/Users/tahers/Documents/SE_NPM_packages/synk_data_batch8.csv','/Users/tahers/Documents/SE_NPM_packages/synk_data_batch9.csv','/Users/tahers/Documents/SE_NPM_packages/synk_data_batch10.csv']\n",
    "\n",
    "merged_data = pd.DataFrame()\n",
    "first_file = True\n",
    "for file in csv_files:\n",
    "    try:\n",
    "        df = pd.read_csv(file, encoding='utf-8', dtype=str, na_values='')  # Specify na_values\n",
    "        \n",
    "        if first_file:\n",
    "            merged_data = df\n",
    "            first_file = False\n",
    "        else:\n",
    "            merged_data = pd.concat([merged_data, df], ignore_index=True)\n",
    "    except Exception as e:\n",
    "        print(f\"Error reading file {file}: {e}\")\n",
    "\n",
    "# Write merged data to a new CSV file\n",
    "merged_data.to_csv('synk_data_merged.csv', index=False)"
   ]
  },
  {
   "cell_type": "code",
   "execution_count": null,
   "metadata": {},
   "outputs": [],
   "source": [
    "import pandas as pd\n",
    "\n",
    "merged_data = pd.read_csv('npmjs_data_merged.csv')\n",
    "\n",
    "selected_data = merged_data[['package_name', 'latest_version_git_repo']]\n",
    "\n",
    "selected_data.to_csv('selected_data.csv', index=False, escapechar='\\\\')\n"
   ]
  }
 ],
 "metadata": {
  "kernelspec": {
   "display_name": "Python 3",
   "language": "python",
   "name": "python3"
  },
  "language_info": {
   "codemirror_mode": {
    "name": "ipython",
    "version": 3
   },
   "file_extension": ".py",
   "mimetype": "text/x-python",
   "name": "python",
   "nbconvert_exporter": "python",
   "pygments_lexer": "ipython3",
   "version": "3.12.0"
  },
  "orig_nbformat": 4
 },
 "nbformat": 4,
 "nbformat_minor": 2
}
