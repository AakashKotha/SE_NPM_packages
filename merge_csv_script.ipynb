{
 "cells": [
  {
   "cell_type": "code",
   "execution_count": 1,
   "metadata": {},
   "outputs": [],
   "source": [
    "import pandas as pd\n",
    "\n",
    "csv_files = ['/Users/tahers/Documents/SE_NPM_packages/pr_data_git_batch1.csv','/Users/tahers/Documents/SE_NPM_packages/pr_data_git_batch2.csv','/Users/tahers/Documents/SE_NPM_packages/pr_data_git_batch3.csv','/Users/tahers/Documents/SE_NPM_packages/pr_data_git_batch4.csv']\n",
    "\n",
    "merged_data = pd.DataFrame()\n",
    "first_file = True\n",
    "for file in csv_files:\n",
    "    try:\n",
    "        df = pd.read_csv(file, encoding='utf-8', dtype=str, na_values='')  # Specify na_values\n",
    "        \n",
    "        if first_file:\n",
    "            merged_data = df\n",
    "            first_file = False\n",
    "        else:\n",
    "            merged_data = pd.concat([merged_data, df], ignore_index=True)\n",
    "    except Exception as e:\n",
    "        print(f\"Error reading file {file}: {e}\")\n",
    "\n",
    "# Write merged data to a new CSV file\n",
    "merged_data.to_csv('pr_git_merged.csv', index=False)"
   ]
  },
  {
   "cell_type": "code",
   "execution_count": 3,
   "metadata": {},
   "outputs": [],
   "source": [
    "import pandas as pd\n",
    "\n",
    "merged_data = pd.read_csv('/Users/tahers/Documents/SE_NPM_packages/npmjs_data_merged.csv')\n",
    "\n",
    "selected_data = merged_data[['package_name', 'latest_version_git_repo']]\n",
    "\n",
    "selected_data.to_csv('name_git_repo_nik.csv', index=False, escapechar='\\\\')\n"
   ]
  },
  {
   "cell_type": "code",
   "execution_count": null,
   "metadata": {},
   "outputs": [],
   "source": [
    "import pandas as pd\n",
    "\n",
    "df1 = pd.read_csv('/Users/tahers/Documents/SE_NPM_packages/npmjs_data_merged.csv')  \n",
    "df2 = pd.read_csv('/Users/tahers/Documents/SE_NPM_packages/synk_data_merged.csv') \n",
    "\n",
    "# Merge the two DataFrames based on package_name and Package columns\n",
    "merged_df = pd.merge(df1, df2, how='outer', left_on='package_name', right_on='Package')\n",
    "\n",
    "# Drop one of the two columns with similar package names\n",
    "merged_df.drop('Package', axis=1, inplace=True)  # Drop 'Package' column\n",
    "\n",
    "# Write the merged DataFrame to a new CSV file\n",
    "merged_df.to_csv('data_merged_npmjs_synk.csv', index=False)\n"
   ]
  },
  {
   "cell_type": "code",
   "execution_count": 2,
   "metadata": {},
   "outputs": [],
   "source": [
    "import pandas as pd\n",
    "\n",
    "# Read the first CSV file\n",
    "df1 = pd.read_csv('/Users/tahers/Documents/SE_NPM_packages/git_stats_data.csv')  # Replace 'first_csv_file.csv' with the path to your first CSV file\n",
    "\n",
    "# Read the second CSV file\n",
    "df2 = pd.read_csv('')  # Replace 'second_csv_file.csv' with the path to your second CSV file\n",
    "\n",
    "# Replace values in 'open_PRs' and 'merged_PRs' columns of the first CSV file with values from the second CSV file\n",
    "df1['open_PRs'] = df2['open_PRs'].tolist()\n",
    "df1['merged_PRs'] = df2['merged_PRs'].tolist()\n",
    "\n",
    "# Write the updated DataFrame back to a new CSV file\n",
    "df1.to_csv('git_stats_data_with_pr.csv', index=False)  # Replace 'updated_first_csv_file.csv' with the desired output file path\n"
   ]
  },
  {
   "cell_type": "code",
   "execution_count": 16,
   "metadata": {},
   "outputs": [],
   "source": [
    "import pandas as pd\n",
    "\n",
    "df1 = pd.read_csv('/Users/tahers/Documents/SE_NPM_packages/git_stats_data.csv')  \n",
    "df2 = pd.read_csv('/Users/tahers/Documents/SE_NPM_packages/unique_CC_data.csv') \n",
    "\n",
    "# Merge the two DataFrames based on package_name and Package columns\n",
    "# merged_df = pd.merge(df1, df2, how='outer', left_on='git_repo', right_on='latest_version_git_repo')\n",
    "merged_df = pd.merge(df1, df2[['latest_version_git_repo', 'cc_final']], \n",
    "                     how='left', left_on='git_repo', right_on='latest_version_git_repo')\n",
    "\n",
    "# Drop one of the two columns with similar package names\n",
    "merged_df.drop('latest_version_git_repo', axis=1, inplace=True)  # Drop column\n",
    "# merged_df.drop('package_name', axis=1, inplace=True)  # Drop column\n",
    "\n",
    "#rename\n",
    "merged_df.rename(columns={'cc_final': 'cyclomatic_complexity'}, inplace=True)\n",
    "# merged_df.rename(columns={'TS SLOC': 'sloc_typescript'}, inplace=True)\n",
    "\n",
    "# Write the merged DataFrame to a new CSV file\n",
    "merged_df.to_csv('git_stats_data_cc.csv', index=False)\n"
   ]
  },
  {
   "cell_type": "code",
   "execution_count": 17,
   "metadata": {},
   "outputs": [
    {
     "name": "stdout",
     "output_type": "stream",
     "text": [
      "Length of DataFrame with unique 'latest_version_git_repo' values: 11030\n"
     ]
    }
   ],
   "source": [
    "import pandas as pd\n",
    "\n",
    "# Read the CSV file\n",
    "df = pd.read_csv('/Users/tahers/Documents/SE_NPM_packages/final_CC.csv')  \n",
    "\n",
    "# Find the unique values in the 'latest_version_git_repo' column\n",
    "unique_git_repo = df['latest_version_git_repo'].value_counts() == 1\n",
    "\n",
    "# Keep only the rows where 'latest_version_git_repo' has unique values\n",
    "df_unique = df[df['latest_version_git_repo'].isin(unique_git_repo[unique_git_repo].index)]\n",
    "\n",
    "# Print the length of the new DataFrame\n",
    "print(\"Length of DataFrame with unique 'latest_version_git_repo' values:\", len(df_unique))\n",
    "\n",
    "# Write the new DataFrame to a new CSV file\n",
    "df_unique.to_csv('/Users/tahers/Documents/SE_NPM_packages/unique_CC_data.csv', index=False)\n"
   ]
  }
 ],
 "metadata": {
  "kernelspec": {
   "display_name": "Python 3",
   "language": "python",
   "name": "python3"
  },
  "language_info": {
   "codemirror_mode": {
    "name": "ipython",
    "version": 3
   },
   "file_extension": ".py",
   "mimetype": "text/x-python",
   "name": "python",
   "nbconvert_exporter": "python",
   "pygments_lexer": "ipython3",
   "version": "3.12.0"
  },
  "orig_nbformat": 4
 },
 "nbformat": 4,
 "nbformat_minor": 2
}
