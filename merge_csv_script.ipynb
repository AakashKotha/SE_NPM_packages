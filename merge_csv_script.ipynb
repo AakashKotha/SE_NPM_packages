{
 "cells": [
  {
   "cell_type": "code",
   "execution_count": 1,
   "metadata": {},
   "outputs": [],
   "source": [
    "import pandas as pd\n",
    "\n",
    "csv_files = ['/Users/tahers/Documents/SE_NPM_packages/pr_data_git_batch1.csv','/Users/tahers/Documents/SE_NPM_packages/pr_data_git_batch2.csv','/Users/tahers/Documents/SE_NPM_packages/pr_data_git_batch3.csv','/Users/tahers/Documents/SE_NPM_packages/pr_data_git_batch4.csv']\n",
    "\n",
    "merged_data = pd.DataFrame()\n",
    "first_file = True\n",
    "for file in csv_files:\n",
    "    try:\n",
    "        df = pd.read_csv(file, encoding='utf-8', dtype=str, na_values='')  # Specify na_values\n",
    "        \n",
    "        if first_file:\n",
    "            merged_data = df\n",
    "            first_file = False\n",
    "        else:\n",
    "            merged_data = pd.concat([merged_data, df], ignore_index=True)\n",
    "    except Exception as e:\n",
    "        print(f\"Error reading file {file}: {e}\")\n",
    "\n",
    "# Write merged data to a new CSV file\n",
    "merged_data.to_csv('pr_git_merged.csv', index=False)"
   ]
  },
  {
   "cell_type": "code",
   "execution_count": 3,
   "metadata": {},
   "outputs": [],
   "source": [
    "import pandas as pd\n",
    "\n",
    "merged_data = pd.read_csv('/Users/tahers/Documents/SE_NPM_packages/npmjs_data_merged.csv')\n",
    "\n",
    "selected_data = merged_data[['package_name', 'latest_version_git_repo']]\n",
    "\n",
    "selected_data.to_csv('name_git_repo_nik.csv', index=False, escapechar='\\\\')\n"
   ]
  },
  {
   "cell_type": "code",
   "execution_count": null,
   "metadata": {},
   "outputs": [],
   "source": [
    "import pandas as pd\n",
    "\n",
    "df1 = pd.read_csv('/Users/tahers/Documents/SE_NPM_packages/npmjs_data_merged.csv')  \n",
    "df2 = pd.read_csv('/Users/tahers/Documents/SE_NPM_packages/synk_data_merged.csv') \n",
    "\n",
    "# Merge the two DataFrames based on package_name and Package columns\n",
    "merged_df = pd.merge(df1, df2, how='outer', left_on='package_name', right_on='Package')\n",
    "\n",
    "# Drop one of the two columns with similar package names\n",
    "merged_df.drop('Package', axis=1, inplace=True)  # Drop 'Package' column\n",
    "\n",
    "# Write the merged DataFrame to a new CSV file\n",
    "merged_df.to_csv('data_merged_npmjs_synk.csv', index=False)\n"
   ]
  },
  {
   "cell_type": "code",
   "execution_count": 2,
   "metadata": {},
   "outputs": [],
   "source": [
    "import pandas as pd\n",
    "\n",
    "# Read the first CSV file\n",
    "df1 = pd.read_csv('/Users/tahers/Documents/SE_NPM_packages/git_stats_data.csv')  # Replace 'first_csv_file.csv' with the path to your first CSV file\n",
    "\n",
    "# Read the second CSV file\n",
    "df2 = pd.read_csv('')  # Replace 'second_csv_file.csv' with the path to your second CSV file\n",
    "\n",
    "# Replace values in 'open_PRs' and 'merged_PRs' columns of the first CSV file with values from the second CSV file\n",
    "df1['open_PRs'] = df2['open_PRs'].tolist()\n",
    "df1['merged_PRs'] = df2['merged_PRs'].tolist()\n",
    "\n",
    "# Write the updated DataFrame back to a new CSV file\n",
    "df1.to_csv('git_stats_data_with_pr.csv', index=False)  # Replace 'updated_first_csv_file.csv' with the desired output file path\n"
   ]
  },
  {
   "cell_type": "code",
   "execution_count": 35,
   "metadata": {},
   "outputs": [],
   "source": [
    "import pandas as pd\n",
    "\n",
    "df1 = pd.read_csv('/Users/tahers/Documents/SE_NPM_packages/git_stats_data_merged.csv')   \n",
    "df2 = pd.read_csv('/Users/tahers/Documents/SE_NPM_packages/unique_data.csv')   \n",
    "\n",
    "# Merge the two DataFrames based on package_name and Package columns\n",
    "# merged_df = pd.merge(df1, df2, how='outer', left_on='git_repo', right_on='latest_version_git_repo')\n",
    "merged_df = pd.merge(df1, df2, how='left', left_on='git_repo', right_on='git_repository')\n",
    "\n",
    "# Drop one of the two columns with similar package names\n",
    "merged_df.drop('git_repository', axis=1, inplace=True)  # Drop column\n",
    "# merged_df.drop('package_name', axis=1, inplace=True)  # Drop column\n",
    "\n",
    "#rename\n",
    "merged_df.rename(columns={'git_repo': 'git_repository'}, inplace=True)\n",
    "# merged_df.rename(columns={'TS SLOC': 'sloc_typescript'}, inplace=True)\n",
    "\n",
    "# Write the merged DataFrame to a new CSV file\n",
    "merged_df.to_csv('full_merged_data.csv', index=False)\n"
   ]
  },
  {
   "cell_type": "code",
   "execution_count": 31,
   "metadata": {},
   "outputs": [
    {
     "name": "stdout",
     "output_type": "stream",
     "text": [
      "Length of DataFrame with unique 'git_repository' values: 10126\n"
     ]
    }
   ],
   "source": [
    "import pandas as pd\n",
    "\n",
    "# Read the CSV file\n",
    "df = pd.read_csv('/Users/tahers/Documents/SE_NPM_packages/cleaned_data.csv')  \n",
    "\n",
    "# Find the unique values in the 'latest_version_git_repo' column\n",
    "unique_git_repo = df['git_repository'].value_counts() == 1\n",
    "\n",
    "# Keep only the rows where 'latest_version_git_repo' has unique values\n",
    "df_unique = df[df['git_repository'].isin(unique_git_repo[unique_git_repo].index)]\n",
    "\n",
    "# Print the length of the new DataFrame\n",
    "print(\"Length of DataFrame with unique 'git_repository' values:\", len(df_unique))\n",
    "\n",
    "# Write the new DataFrame to a new CSV file\n",
    "df_unique.to_csv('/Users/tahers/Documents/SE_NPM_packages/unique_data.csv', index=False)\n"
   ]
  },
  {
   "cell_type": "code",
   "execution_count": 40,
   "metadata": {},
   "outputs": [
    {
     "name": "stdout",
     "output_type": "stream",
     "text": [
      "Number of rows for trivial matches: 1385\n"
     ]
    }
   ],
   "source": [
    "# #counting trivials\n",
    "\n",
    "# if JS_SLOC!=0:\n",
    "#     JS_SLOC : <=35 and CC : <=10\n",
    "# else:\n",
    "#     TS_SLOC : <=35 and CC : <=10\n",
    "\n",
    "\n",
    "import pandas as pd\n",
    "\n",
    "# Read the CSV file\n",
    "df = pd.read_csv('/Users/tahers/Documents/SE_NPM_packages/full_merged_data.csv')  \n",
    "\n",
    "# Initialize a counter\n",
    "count = 0\n",
    "\n",
    "# Iterate over each row in the DataFrame\n",
    "for index, row in df.iterrows():\n",
    "    if row['sloc_javascript'] != 0:\n",
    "        # Check condition for JavaScript SLOC\n",
    "        if row['sloc_javascript'] <= 35 and row['cyclomatic_complexity'] <= 10:\n",
    "            count += 1\n",
    "    else:\n",
    "        # Check condition for TypeScript SLOC\n",
    "        if row['sloc_typescript'] <= 35 and row['cyclomatic_complexity'] <= 10:\n",
    "            count += 1\n",
    "\n",
    "# Print the count\n",
    "print(\"Number of rows for trivial matches:\", count)\n"
   ]
  },
  {
   "cell_type": "code",
   "execution_count": 45,
   "metadata": {},
   "outputs": [
    {
     "name": "stdout",
     "output_type": "stream",
     "text": [
      "Number of True values in 'Trivial' column: 1385\n"
     ]
    }
   ],
   "source": [
    "import pandas as pd\n",
    "\n",
    "# Read the CSV file\n",
    "df = pd.read_csv('/Users/tahers/Documents/SE_NPM_packages/full_merged_data.csv')  \n",
    "\n",
    "# Initialize a list to store boolean values\n",
    "trivial_list = []\n",
    "\n",
    "# Iterate over each row in the DataFrame\n",
    "for index, row in df.iterrows():\n",
    "    if row['sloc_javascript'] != 0:\n",
    "        # Check condition for JavaScript SLOC\n",
    "        trivial_list.append(row['sloc_javascript'] <= 35 and row['cyclomatic_complexity'] <= 10)\n",
    "    else:\n",
    "        # Check condition for TypeScript SLOC\n",
    "        trivial_list.append(row['sloc_typescript'] <= 35 and row['cyclomatic_complexity'] <= 10)\n",
    "\n",
    "# Create a new column 'Trivial' based on the boolean values list\n",
    "df['Trivial'] = trivial_list\n",
    "\n",
    "# Count and print the number of True values in the 'Trivial' column\n",
    "true_count = df['Trivial'].sum()\n",
    "print(\"Number of True values in 'Trivial' column:\", true_count)\n",
    "\n",
    "# Write the updated DataFrame back to a new CSV file\n",
    "df.to_csv('/Users/tahers/Documents/SE_NPM_packages/full_merged_data_trivial.csv', index=False)\n"
   ]
  },
  {
   "cell_type": "code",
   "execution_count": 43,
   "metadata": {},
   "outputs": [],
   "source": [
    "df = pd.read_csv('/Users/tahers/Documents/SE_NPM_packages/full_merged_data_trivial.csv')  \n",
    "\n",
    "df.drop('readme_exists_synk', axis=1, inplace=True)  # Drop column\n",
    "\n",
    "# Write the new DataFrame to a new CSV file\n",
    "df.to_csv('/Users/tahers/Documents/SE_NPM_packages/full_merged_data_trivial.csv', index=False)"
   ]
  },
  {
   "cell_type": "code",
   "execution_count": 29,
   "metadata": {},
   "outputs": [
    {
     "name": "stdout",
     "output_type": "stream",
     "text": [
      "Number of rows for deprecated matches: 403\n"
     ]
    }
   ],
   "source": [
    "#counting deprecated\n",
    "\n",
    "\n",
    "import pandas as pd\n",
    "\n",
    "# Read the CSV file\n",
    "df = pd.read_csv('/Users/tahers/Documents/SE_NPM_packages/cleaned_data.csv')  \n",
    "\n",
    "# Initialize a counter\n",
    "count = 0\n",
    "\n",
    "# Iterate over each row in the DataFrame\n",
    "for index, row in df.iterrows():\n",
    "    if row['deprecated'] == 'Yes':\n",
    "            count += 1\n",
    "\n",
    "# Print the count\n",
    "print(\"Number of rows for deprecated matches:\", count)\n"
   ]
  }
 ],
 "metadata": {
  "kernelspec": {
   "display_name": "Python 3",
   "language": "python",
   "name": "python3"
  },
  "language_info": {
   "codemirror_mode": {
    "name": "ipython",
    "version": 3
   },
   "file_extension": ".py",
   "mimetype": "text/x-python",
   "name": "python",
   "nbconvert_exporter": "python",
   "pygments_lexer": "ipython3",
   "version": "3.12.0"
  },
  "orig_nbformat": 4
 },
 "nbformat": 4,
 "nbformat_minor": 2
}
